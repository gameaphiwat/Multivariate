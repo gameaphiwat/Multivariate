{
  "nbformat": 4,
  "nbformat_minor": 0,
  "metadata": {
    "colab": {
      "name": "Untitled0.ipynb",
      "provenance": [],
      "authorship_tag": "ABX9TyOCBy4sMzVeI7kq9Mdbic92",
      "include_colab_link": true
    },
    "kernelspec": {
      "name": "python3",
      "display_name": "Python 3"
    }
  },
  "cells": [
    {
      "cell_type": "markdown",
      "metadata": {
        "id": "view-in-github",
        "colab_type": "text"
      },
      "source": [
        "<a href=\"https://colab.research.google.com/github/gameaphiwat/Multivariate/blob/main/Function_Numpy_Pandas.ipynb\" target=\"_parent\"><img src=\"https://colab.research.google.com/assets/colab-badge.svg\" alt=\"Open In Colab\"/></a>"
      ]
    },
    {
      "cell_type": "markdown",
      "metadata": {
        "id": "mTylq_Q0Sk4N"
      },
      "source": [
        "##**Function**\r\n"
      ]
    },
    {
      "cell_type": "markdown",
      "metadata": {
        "id": "DM5cBbSXhSF8"
      },
      "source": [
        "```python\r\n",
        "def function_name(_input_):\r\n",
        "     do_something with _Input_to produce _Output_\r\n",
        "     return _Output_\r\n",
        "```\r\n",
        "####  backtick(```)\r\n"
      ]
    },
    {
      "cell_type": "markdown",
      "metadata": {
        "id": "jiJlbWftTAv8"
      },
      "source": [
        "ฺฺfunction มีส่วนสำคัญทั้งหมด 4 ส่วน\r\n",
        "\r\n",
        "1. บอก python ว่าเราจะเขียนฟังก์ชั่น ชื่ออะไร def function_name():(ขาดไม่ได้)\r\n",
        "2. กำหนดตัวแปรที่จะเป็น input Input(ขาดได้)\r\n",
        "3. ส่วนประกอบมวลผล do_something with Input toget Output (ขาดไม่ได้)\r\n",
        "4. ส่วน output return Output(ขาดได้)\r\n",
        "\r\n",
        "เราใช้ เว้นวรรค (indent) เพื่อบอกขอบเขตของ code\r\n",
        "\r\n",
        "\r\n",
        "backtick(```)"
      ]
    },
    {
      "cell_type": "code",
      "metadata": {
        "colab": {
          "base_uri": "https://localhost:8080/"
        },
        "id": "hFi9l8TEU3z6",
        "outputId": "23a63158-49a4-4c6a-f260-9339f4687623"
      },
      "source": [
        "def print_name(name,surname,ID) :\r\n",
        "      st = f'ชื่อ {name} นามสกุล {surname} ID{ID}'\r\n",
        "      return st\r\n",
        "print('outside function')"
      ],
      "execution_count": 9,
      "outputs": [
        {
          "output_type": "stream",
          "text": [
            "outside function\n"
          ],
          "name": "stdout"
        }
      ]
    },
    {
      "cell_type": "markdown",
      "metadata": {
        "id": "xDOtq5XEW1qi"
      },
      "source": [
        "**การเรียกใช้ฟังก์ชั่น**\r\n"
      ]
    },
    {
      "cell_type": "code",
      "metadata": {
        "colab": {
          "base_uri": "https://localhost:8080/",
          "height": 35
        },
        "id": "oWAuX_CvWMDp",
        "outputId": "1084c9f1-9280-46d3-e347-6fe02915b638"
      },
      "source": [
        "print_name('กิตติมา','อุปสุข','623021040-9')"
      ],
      "execution_count": 10,
      "outputs": [
        {
          "output_type": "execute_result",
          "data": {
            "application/vnd.google.colaboratory.intrinsic+json": {
              "type": "string"
            },
            "text/plain": [
              "'ชื่อ กิตติมา นามสกุล อุปสุข ID623021040-9'"
            ]
          },
          "metadata": {
            "tags": []
          },
          "execution_count": 10
        }
      ]
    },
    {
      "cell_type": "code",
      "metadata": {
        "colab": {
          "base_uri": "https://localhost:8080/"
        },
        "id": "uaZUNlnzXdVn",
        "outputId": "ff3e002e-6f8e-4f3c-b322-13bfd9d5d942"
      },
      "source": [
        "output_string = print_name(' กิตติมา',' อุปสุข',' 623021040-9')\r\n",
        "print(output_string)"
      ],
      "execution_count": 14,
      "outputs": [
        {
          "output_type": "stream",
          "text": [
            "ชื่อ  กิตติมา นามสกุล  อุปสุข ID 623021040-9\n"
          ],
          "name": "stdout"
        }
      ]
    },
    {
      "cell_type": "markdown",
      "metadata": {
        "id": "DyMTvAOmX4kA"
      },
      "source": [
        "**ฟังก์ชั่นไม่จำเป็นต้องมี output**"
      ]
    },
    {
      "cell_type": "code",
      "metadata": {
        "id": "jSVCfopYYF0t"
      },
      "source": [
        "def print_name2(surname,ID,name):\r\n",
        "   st = f'=ชื่อ{name} นามสกุล {surname} ID{ID}'\r\n",
        "   print(st)"
      ],
      "execution_count": 17,
      "outputs": []
    },
    {
      "cell_type": "code",
      "metadata": {
        "colab": {
          "base_uri": "https://localhost:8080/"
        },
        "id": "GU-Pa43UYt_U",
        "outputId": "141399ed-1da4-4a9e-d895-e67c0975406a"
      },
      "source": [
        "print_name2('กิตติมา','อุปสุข','623021040-9')\r\n"
      ],
      "execution_count": 19,
      "outputs": [
        {
          "output_type": "stream",
          "text": [
            "=ชื่อ623021040-9 นามสกุล กิตติมา IDอุปสุข\n"
          ],
          "name": "stdout"
        }
      ]
    },
    {
      "cell_type": "markdown",
      "metadata": {
        "id": "TO3rGArnZKye"
      },
      "source": [
        "**ฟังก์ชั่นไม่จำเป็นต้องมี input**"
      ]
    },
    {
      "cell_type": "code",
      "metadata": {
        "id": "9Sd8E8xgZSJZ"
      },
      "source": [
        "def pi():\r\n",
        "  return 3.14159265359"
      ],
      "execution_count": 20,
      "outputs": []
    },
    {
      "cell_type": "code",
      "metadata": {
        "colab": {
          "base_uri": "https://localhost:8080/"
        },
        "id": "3qtkBYIYZfTV",
        "outputId": "d983cc68-4401-4114-b2e5-d3eb3a1a798f"
      },
      "source": [
        "#คำนวณพื้นที่วงกลมที่มีขนาดเส้นผ่านศูนย์กลางเท่ากับ 3\r\n",
        "pi()*(1.5**2)"
      ],
      "execution_count": 22,
      "outputs": [
        {
          "output_type": "execute_result",
          "data": {
            "text/plain": [
              "7.0685834705775"
            ]
          },
          "metadata": {
            "tags": []
          },
          "execution_count": 22
        }
      ]
    },
    {
      "cell_type": "code",
      "metadata": {
        "id": "rT3EJg04Zzby"
      },
      "source": [
        "def print_my_name():\r\n",
        "  print('อภิวัฒน์  เหลี่ยมสิงขร 623020545-4')\r\n"
      ],
      "execution_count": 26,
      "outputs": []
    },
    {
      "cell_type": "code",
      "metadata": {
        "colab": {
          "base_uri": "https://localhost:8080/"
        },
        "id": "3O4ql2jMaQ8F",
        "outputId": "a65ed33a-db34-4af4-8318-683ca8bd9941"
      },
      "source": [
        "  print_my_name()"
      ],
      "execution_count": 27,
      "outputs": [
        {
          "output_type": "stream",
          "text": [
            "อภิวัฒน์  เหลี่ยมสิงขร 623020545-4\n"
          ],
          "name": "stdout"
        }
      ]
    },
    {
      "cell_type": "markdown",
      "metadata": {
        "id": "gwyFlra-aSnc"
      },
      "source": [
        "Input ของ function ใน python มีสองแบบ input ที่จำเป็นต้องใส่ กับ input ที่ไม่จำเป็นต้องใส่ (มีค่า default) \r\n",
        "เราต้องเรียง input ที่จำเป็นต้องใส่ขึ้นก่อน"
      ]
    },
    {
      "cell_type": "code",
      "metadata": {
        "id": "bb-bsYscbAkl"
      },
      "source": [
        "def print_2lines_default(name , surname, ID , grade='A'):\r\n",
        " st = f'ชื่อ {name} นามสกุล{surname} รหัส{ID} '\r\n",
        " print(st)\r\n",
        " st2=f'เกรดวิชา Multiveriate  >>> {grade}'\r\n",
        " print(st2)"
      ],
      "execution_count": 40,
      "outputs": []
    },
    {
      "cell_type": "code",
      "metadata": {
        "colab": {
          "base_uri": "https://localhost:8080/"
        },
        "id": "Ei_mjGejc-RN",
        "outputId": "e7d08492-7976-4236-a4ae-a05ff1f0681b"
      },
      "source": [
        "print_2lines_default('อภิวัฒน์','เหลี่ยมสิงขร','623020545-4')"
      ],
      "execution_count": 38,
      "outputs": [
        {
          "output_type": "stream",
          "text": [
            "ชื่อ อภิวัฒน์ นามสกุลเหลี่ยมสิงขร รหัส623020545-4 \n",
            "เกรดวิชา Multiveriate  >>> A\n"
          ],
          "name": "stdout"
        }
      ]
    },
    {
      "cell_type": "code",
      "metadata": {
        "colab": {
          "base_uri": "https://localhost:8080/"
        },
        "id": "jJEU0IYMdNoP",
        "outputId": "2dfa4985-74a0-4db0-b12c-ecb19df452f0"
      },
      "source": [
        "print_2lines_default('อภิวัฒน์','เหลี่ยมสิงขร','623020545-4','A')"
      ],
      "execution_count": 39,
      "outputs": [
        {
          "output_type": "stream",
          "text": [
            "ชื่อ อภิวัฒน์ นามสกุลเหลี่ยมสิงขร รหัส623020545-4 \n",
            "เกรดวิชา Multiveriate  >>> A\n"
          ],
          "name": "stdout"
        }
      ]
    },
    {
      "cell_type": "markdown",
      "metadata": {
        "id": "rFrjBF2ResWe"
      },
      "source": [
        "HW3 ให้เขียน function คำนวณจำนวนวินาทีจาก เวลาต่อไปนี้\r\n",
        "\r\n",
        "'14-15-31'\r\n",
        "\r\n",
        "'13-00-01'\r\n",
        "\r\n",
        "'05-49-44'\r\n",
        "\r\n"
      ]
    }
  ]
}