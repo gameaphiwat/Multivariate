{
  "nbformat": 4,
  "nbformat_minor": 0,
  "metadata": {
    "colab": {
      "name": "MVA001.ipynb",
      "provenance": [],
      "authorship_tag": "ABX9TyNqzX/uVKMODLtevD4y0kvx",
      "include_colab_link": true
    },
    "kernelspec": {
      "name": "python3",
      "display_name": "Python 3"
    }
  },
  "cells": [
    {
      "cell_type": "markdown",
      "metadata": {
        "id": "view-in-github",
        "colab_type": "text"
      },
      "source": [
        "<a href=\"https://colab.research.google.com/github/gameaphiwat/Multivariate/blob/main/MVA001.ipynb\" target=\"_parent\"><img src=\"https://colab.research.google.com/assets/colab-badge.svg\" alt=\"Open In Colab\"/></a>"
      ]
    },
    {
      "cell_type": "markdown",
      "metadata": {
        "id": "bcrip_SDS7jN"
      },
      "source": [
        "#**Scalar, Vector, Matrix**\r\n"
      ]
    },
    {
      "cell_type": "markdown",
      "metadata": {
        "id": "L2nrN34KY0Rv"
      },
      "source": [
        "## **Scalar**"
      ]
    },
    {
      "cell_type": "code",
      "metadata": {
        "id": "TAnOb3FzVs7l"
      },
      "source": [
        "import numpy as np"
      ],
      "execution_count": 1,
      "outputs": []
    },
    {
      "cell_type": "code",
      "metadata": {
        "colab": {
          "base_uri": "https://localhost:8080/"
        },
        "id": "w9zHS59ITaQJ",
        "outputId": "0a28db76-7556-45f1-e2c8-ae16da50eaf1"
      },
      "source": [
        "  scalar_a=10 #scalar\r\n",
        "  print(scalar_a)"
      ],
      "execution_count": 2,
      "outputs": [
        {
          "output_type": "stream",
          "text": [
            "10\n"
          ],
          "name": "stdout"
        }
      ]
    },
    {
      "cell_type": "markdown",
      "metadata": {
        "id": "ItpBpZK9Y5_C"
      },
      "source": [
        "##**Vector**"
      ]
    },
    {
      "cell_type": "code",
      "metadata": {
        "colab": {
          "base_uri": "https://localhost:8080/"
        },
        "id": "7ahLM62YT18f",
        "outputId": "ac6b6b70-4f04-4dc1-9cfa-62386d8b9949"
      },
      "source": [
        "vector_b = np.zeros ([2,1]) #vector\r\n",
        "vector_b[0,0] = 1\r\n",
        "vector_b[1,0] = 3\r\n",
        "print(vector_b)\r\n",
        "print(vector_b.shape)"
      ],
      "execution_count": 3,
      "outputs": [
        {
          "output_type": "stream",
          "text": [
            "[[1.]\n",
            " [3.]]\n",
            "(2, 1)\n"
          ],
          "name": "stdout"
        }
      ]
    },
    {
      "cell_type": "code",
      "metadata": {
        "colab": {
          "base_uri": "https://localhost:8080/"
        },
        "id": "j8-atpTwU_MI",
        "outputId": "f5b61a62-c901-4767-fe93-1bed65d6287f"
      },
      "source": [
        "vector_c = np.array([[1],[3]])\r\n",
        "print(vector_c)\r\n",
        "print(vector_c.shape)"
      ],
      "execution_count": 4,
      "outputs": [
        {
          "output_type": "stream",
          "text": [
            "[[1]\n",
            " [3]]\n",
            "(2, 1)\n"
          ],
          "name": "stdout"
        }
      ]
    },
    {
      "cell_type": "code",
      "metadata": {
        "id": "nCompgqtVLQZ"
      },
      "source": [
        " from matplotlib import  pyplot as plt"
      ],
      "execution_count": 5,
      "outputs": []
    },
    {
      "cell_type": "code",
      "metadata": {
        "colab": {
          "base_uri": "https://localhost:8080/",
          "height": 282
        },
        "id": "PZ9jQS2LVZfz",
        "outputId": "bcffa703-941d-42a0-8743-16c1de740519"
      },
      "source": [
        "plt.plot(vector_b[0,0],vector_b[1,0], 'or')"
      ],
      "execution_count": 6,
      "outputs": [
        {
          "output_type": "execute_result",
          "data": {
            "text/plain": [
              "[<matplotlib.lines.Line2D at 0x7f373b0d5a90>]"
            ]
          },
          "metadata": {
            "tags": []
          },
          "execution_count": 6
        },
        {
          "output_type": "display_data",
          "data": {
            "image/png": "[encoded data removed]",
            "text/plain": [
              "<Figure size 432x288 with 1 Axes>"
            ]
          },
          "metadata": {
            "tags": [],
            "needs_background": "light"
          }
        }
      ]
    },
    {
      "cell_type": "markdown",
      "metadata": {
        "id": "3Tw__PQAX4g9"
      },
      "source": [
        "ขนาดของ vector คำนวณได้โดย พิธากอรัส"
      ]
    },
    {
      "cell_type": "code",
      "metadata": {
        "colab": {
          "base_uri": "https://localhost:8080/"
        },
        "id": "Hvh1kQWcYZxy",
        "outputId": "3971a632-256d-4a8b-fe4e-ef5591a69919"
      },
      "source": [
        "vector_b_size = ((vector_b[0,0]**2) + (vector_b[1,0]**2))**0.5\r\n",
        "print(vector_b_size)"
      ],
      "execution_count": 7,
      "outputs": [
        {
          "output_type": "stream",
          "text": [
            "3.1622776601683795\n"
          ],
          "name": "stdout"
        }
      ]
    },
    {
      "cell_type": "code",
      "metadata": {
        "colab": {
          "base_uri": "https://localhost:8080/",
          "height": 282
        },
        "id": "H0V0YM6DWXxC",
        "outputId": "c85079ff-3c8c-4221-ffa5-e8fca59d3cf4"
      },
      "source": [
        "plt.quiver(0,0,vector_b[0,0],vector_b[1,0])"
      ],
      "execution_count": 8,
      "outputs": [
        {
          "output_type": "execute_result",
          "data": {
            "text/plain": [
              "<matplotlib.quiver.Quiver at 0x7f373b074240>"
            ]
          },
          "metadata": {
            "tags": []
          },
          "execution_count": 8
        },
        {
          "output_type": "display_data",
          "data": {
            "image/png": "[encoded data removed]",
            "text/plain": [
              "<Figure size 432x288 with 1 Axes>"
            ]
          },
          "metadata": {
            "tags": [],
            "needs_background": "light"
          }
        }
      ]
    },
    {
      "cell_type": "markdown",
      "metadata": {
        "id": "vRCcro0hZyJZ"
      },
      "source": [
        "##**Matrix**"
      ]
    },
    {
      "cell_type": "code",
      "metadata": {
        "colab": {
          "base_uri": "https://localhost:8080/"
        },
        "id": "pKfzofETZl4W",
        "outputId": "66b6c33d-ea3d-4c51-8570-02c7ce89b43b"
      },
      "source": [
        "matrix_b=np.array([[2,3],[1,4],[-1,1]])\r\n",
        "print(matrix_b)"
      ],
      "execution_count": 9,
      "outputs": [
        {
          "output_type": "stream",
          "text": [
            "[[ 2  3]\n",
            " [ 1  4]\n",
            " [-1  1]]\n"
          ],
          "name": "stdout"
        }
      ]
    },
    {
      "cell_type": "code",
      "metadata": {
        "colab": {
          "base_uri": "https://localhost:8080/"
        },
        "id": "OMcsDNNxaF94",
        "outputId": "2a8202df-0522-4216-ae07-bb2a94c40170"
      },
      "source": [
        "matrix_b=matrix_b.T\r\n",
        "print(matrix_b)"
      ],
      "execution_count": 10,
      "outputs": [
        {
          "output_type": "stream",
          "text": [
            "[[ 2  1 -1]\n",
            " [ 3  4  1]]\n"
          ],
          "name": "stdout"
        }
      ]
    },
    {
      "cell_type": "code",
      "metadata": {
        "colab": {
          "base_uri": "https://localhost:8080/"
        },
        "id": "G1b6kLd5eUdK",
        "outputId": "f6174ec2-8590-48d6-d20e-a298b0a32449"
      },
      "source": [
        "matrix_b[0,:]"
      ],
      "execution_count": 11,
      "outputs": [
        {
          "output_type": "execute_result",
          "data": {
            "text/plain": [
              "array([ 2,  1, -1])"
            ]
          },
          "metadata": {
            "tags": []
          },
          "execution_count": 11
        }
      ]
    },
    {
      "cell_type": "code",
      "metadata": {
        "colab": {
          "base_uri": "https://localhost:8080/",
          "height": 282
        },
        "id": "mw9ryiNhaZz8",
        "outputId": "2b89ff1e-a711-46dd-daab-effc8e9ac8b6"
      },
      "source": [
        "plt.plot(matrix_b[0,:],matrix_b[1,:],'or') #plot(ค่าx, ค่าy,หน้าตาของจุด)\r\n",
        "plt.plot(0,0,'.b') #plot(ค่าx,ค่าy,หน้าตาของจุด)\r\n",
        "plt.plot([0,0],[-1,5],'*:k')\r\n",
        "plt.plot([-1.5,2.5],[0,0],':k')"
      ],
      "execution_count": 12,
      "outputs": [
        {
          "output_type": "execute_result",
          "data": {
            "text/plain": [
              "[<matplotlib.lines.Line2D at 0x7f3732393940>]"
            ]
          },
          "metadata": {
            "tags": []
          },
          "execution_count": 12
        },
        {
          "output_type": "display_data",
          "data": {
            "image/png": "[encoded data removed]",
            "text/plain": [
              "<Figure size 432x288 with 1 Axes>"
            ]
          },
          "metadata": {
            "tags": [],
            "needs_background": "light"
          }
        }
      ]
    },
    {
      "cell_type": "markdown",
      "metadata": {
        "id": "bIE9SESMkLIz"
      },
      "source": [
        "##**Transpose**"
      ]
    },
    {
      "cell_type": "code",
      "metadata": {
        "colab": {
          "base_uri": "https://localhost:8080/"
        },
        "id": "bmYRLL-pkMCH",
        "outputId": "b711f632-fb84-4c57-f198-4f529e4b59f7"
      },
      "source": [
        "A=np.array([[3,-1,2],[1,5,4]])\r\n",
        "print(A)"
      ],
      "execution_count": 13,
      "outputs": [
        {
          "output_type": "stream",
          "text": [
            "[[ 3 -1  2]\n",
            " [ 1  5  4]]\n"
          ],
          "name": "stdout"
        }
      ]
    },
    {
      "cell_type": "code",
      "metadata": {
        "colab": {
          "base_uri": "https://localhost:8080/"
        },
        "id": "XTLcp313lgYr",
        "outputId": "ba02f195-ed84-49cc-f443-00ed36ccfbf0"
      },
      "source": [
        "A.T"
      ],
      "execution_count": 14,
      "outputs": [
        {
          "output_type": "execute_result",
          "data": {
            "text/plain": [
              "array([[ 3,  1],\n",
              "       [-1,  5],\n",
              "       [ 2,  4]])"
            ]
          },
          "metadata": {
            "tags": []
          },
          "execution_count": 14
        }
      ]
    },
    {
      "cell_type": "markdown",
      "metadata": {
        "id": "K2TC20-ZloVu"
      },
      "source": [
        "##**Matrix  Multiply**\r\n",
        "\r\n",
        "## B= A*A'"
      ]
    },
    {
      "cell_type": "code",
      "metadata": {
        "colab": {
          "base_uri": "https://localhost:8080/"
        },
        "id": "6csXqGYHl9op",
        "outputId": "23c5681e-07c0-4946-ab98-a205f47e5412"
      },
      "source": [
        "B= np.dot(A,A.T)\r\n",
        "print(B)"
      ],
      "execution_count": 15,
      "outputs": [
        {
          "output_type": "stream",
          "text": [
            "[[14  6]\n",
            " [ 6 42]]\n"
          ],
          "name": "stdout"
        }
      ]
    },
    {
      "cell_type": "markdown",
      "metadata": {
        "id": "lRL1q8fymK2Z"
      },
      "source": [
        "## **Determinant**\r\n",
        "## Det(B)"
      ]
    },
    {
      "cell_type": "code",
      "metadata": {
        "colab": {
          "base_uri": "https://localhost:8080/"
        },
        "id": "LDa8EzEDmf_g",
        "outputId": "df9a4c49-fe20-4129-d916-cb5abd08bec5"
      },
      "source": [
        "np.linalg.det(B)"
      ],
      "execution_count": 16,
      "outputs": [
        {
          "output_type": "execute_result",
          "data": {
            "text/plain": [
              "551.9999999999998"
            ]
          },
          "metadata": {
            "tags": []
          },
          "execution_count": 16
        }
      ]
    },
    {
      "cell_type": "markdown",
      "metadata": {
        "id": "qZhxqtcst35u"
      },
      "source": [
        "linalg = linear algebra\r\n",
        "\r\n",
        "matrix algebra เพิ่มเติม"
      ]
    },
    {
      "cell_type": "code",
      "metadata": {
        "colab": {
          "base_uri": "https://localhost:8080/",
          "height": 282
        },
        "id": "5WHpRXR8s_nw",
        "outputId": "6a2ce94a-74df-4c99-d8d4-88aa2409f8a1"
      },
      "source": [
        "plt.plot([0,1],[0,1],'-r') #vector Bv\r\n",
        "plt.plot(0,0,'.b') \r\n",
        "plt.plot([0,0],[-1,5],':k')\r\n",
        "plt.plot([-1.5,2.5],[0,0],':k')"
      ],
      "execution_count": 33,
      "outputs": [
        {
          "output_type": "execute_result",
          "data": {
            "text/plain": [
              "[<matplotlib.lines.Line2D at 0x7f372a0d6eb8>]"
            ]
          },
          "metadata": {
            "tags": []
          },
          "execution_count": 33
        },
        {
          "output_type": "display_data",
          "data": {
            "image/png": "[encoded data removed]",
            "text/plain": [
              "<Figure size 432x288 with 1 Axes>"
            ]
          },
          "metadata": {
            "tags": [],
            "needs_background": "light"
          }
        }
      ]
    },
    {
      "cell_type": "code",
      "metadata": {
        "colab": {
          "base_uri": "https://localhost:8080/"
        },
        "id": "6S0NITnzuhW9",
        "outputId": "f2172c8e-5db8-46b5-d1f1-d41bacc7056a"
      },
      "source": [
        "B = np.array([[1,2],[3,4]])\r\n",
        "B"
      ],
      "execution_count": 25,
      "outputs": [
        {
          "output_type": "execute_result",
          "data": {
            "text/plain": [
              "array([[1, 2],\n",
              "       [3, 4]])"
            ]
          },
          "metadata": {
            "tags": []
          },
          "execution_count": 25
        }
      ]
    },
    {
      "cell_type": "markdown",
      "metadata": {
        "id": "yUIG1v5VvmVQ"
      },
      "source": [
        "Matrix multip"
      ]
    },
    {
      "cell_type": "code",
      "metadata": {
        "colab": {
          "base_uri": "https://localhost:8080/"
        },
        "id": "hodXPPtTuz26",
        "outputId": "2a295231-a5c2-433c-d2e5-a0646209529e"
      },
      "source": [
        "Bv = np.dot(B,np.array([ [1] , [1] ]))\r\n",
        "Bv"
      ],
      "execution_count": 31,
      "outputs": [
        {
          "output_type": "execute_result",
          "data": {
            "text/plain": [
              "array([[3],\n",
              "       [7]])"
            ]
          },
          "metadata": {
            "tags": []
          },
          "execution_count": 31
        }
      ]
    },
    {
      "cell_type": "code",
      "metadata": {
        "colab": {
          "base_uri": "https://localhost:8080/",
          "height": 282
        },
        "id": "WJDUlCfsvcNo",
        "outputId": "e86ac9c5-d030-4c06-8f79-1cdbdf1c491a"
      },
      "source": [
        "plt.plot([0,Bv[0,0]],[0,Bv[1,0]],'-g') ## vector Bv\r\n",
        "plt.plot([0,1],[0,1],'-r') #vector\r\n",
        "plt.plot(0,0,'.b') \r\n",
        "plt.plot([0,0],[-1,5],'^:k')\r\n",
        "plt.plot([-1.5,2.5],[0,0],'>:k')"
      ],
      "execution_count": 38,
      "outputs": [
        {
          "output_type": "execute_result",
          "data": {
            "text/plain": [
              "[<matplotlib.lines.Line2D at 0x7f3729aebd68>]"
            ]
          },
          "metadata": {
            "tags": []
          },
          "execution_count": 38
        },
        {
          "output_type": "display_data",
          "data": {
            "image/png": "[encoded data removed]",
            "text/plain": [
              "<Figure size 432x288 with 1 Axes>"
            ]
          },
          "metadata": {
            "tags": [],
            "needs_background": "light"
          }
        }
      ]
    },
    {
      "cell_type": "markdown",
      "metadata": {
        "id": "5iPJuQ1iw3dm"
      },
      "source": [
        "**Determinant ของ Matrix (Det(B)) คือ พื้อที่ของ unit vector ที่ถูกเปลี่ยนไป โดย Matrix นั้นๆ**"
      ]
    },
    {
      "cell_type": "code",
      "metadata": {
        "colab": {
          "base_uri": "https://localhost:8080/",
          "height": 282
        },
        "id": "jgtYxPdrw1qM",
        "outputId": "a028efc0-3d17-4591-c621-8c67cbe6ada1"
      },
      "source": [
        "plt.plot([0,Bv[0,0]],[0,Bv[1,0]],'-g') ## vector Bv\r\n",
        "plt.plot([1,1],[1,0], ':r') ##วาดจุดไข่ปลา พื้นที่ของ v\r\n",
        "plt.plot([1,0],[1,1], ':r') ##วาดจุดไข่ปลา พื้นที่ของ v\r\n",
        "plt.plot([3,3],[7,0], ':g') ##วาดจุดไข่ปลา พื้นที่ของ Bv\r\n",
        "plt.plot([3,0],[7,7], ':g') ##วาดจุดไข่ปลา พื้นที่ของ Bv\r\n",
        "plt.plot([0,1],[0,1],'-r') #vector v ([1,1])\r\n",
        "plt.plot(0,0,'.b') \r\n",
        "plt.plot([0,0],[-1,5],'^:k')\r\n",
        "plt.plot([-1.5,3.5],[0,0],'>:k')"
      ],
      "execution_count": 45,
      "outputs": [
        {
          "output_type": "execute_result",
          "data": {
            "text/plain": [
              "[<matplotlib.lines.Line2D at 0x7f3729a2a048>]"
            ]
          },
          "metadata": {
            "tags": []
          },
          "execution_count": 45
        },
        {
          "output_type": "display_data",
          "data": {
            "image/png": "[encoded data removed]",
            "text/plain": [
              "<Figure size 432x288 with 1 Axes>"
            ]
          },
          "metadata": {
            "tags": [],
            "needs_background": "light"
          }
        }
      ]
    },
    {
      "cell_type": "markdown",
      "metadata": {
        "id": "TTYA6wFs1RaU"
      },
      "source": [
        "Identity matrix ($I$)\r\n",
        "\r\n",
        "$BI = B=IB$"
      ]
    },
    {
      "cell_type": "code",
      "metadata": {
        "id": "qX8-O4Qk1l4t"
      },
      "source": [
        "iden2 = np.identity(2)"
      ],
      "execution_count": 60,
      "outputs": []
    },
    {
      "cell_type": "code",
      "metadata": {
        "colab": {
          "base_uri": "https://localhost:8080/"
        },
        "id": "99PtkjFi2L6A",
        "outputId": "5717df76-82aa-43e1-aaf0-c4f99230dcf8"
      },
      "source": [
        "B"
      ],
      "execution_count": 51,
      "outputs": [
        {
          "output_type": "execute_result",
          "data": {
            "text/plain": [
              "array([[1, 2],\n",
              "       [3, 4]])"
            ]
          },
          "metadata": {
            "tags": []
          },
          "execution_count": 51
        }
      ]
    },
    {
      "cell_type": "code",
      "metadata": {
        "colab": {
          "base_uri": "https://localhost:8080/"
        },
        "id": "tMKcVp_I2Nbb",
        "outputId": "eef21ede-fe44-4c33-9f82-ebf8c0ca7207"
      },
      "source": [
        "np.dot(B,iden2)"
      ],
      "execution_count": 61,
      "outputs": [
        {
          "output_type": "execute_result",
          "data": {
            "text/plain": [
              "array([[1., 2.],\n",
              "       [3., 4.]])"
            ]
          },
          "metadata": {
            "tags": []
          },
          "execution_count": 61
        }
      ]
    },
    {
      "cell_type": "code",
      "metadata": {
        "colab": {
          "base_uri": "https://localhost:8080/"
        },
        "id": "Ph2t8GnM2V_j",
        "outputId": "96a23d7d-d799-4747-8c10-7cdbdcc5d952"
      },
      "source": [
        "np.dot(iden2,B)"
      ],
      "execution_count": 62,
      "outputs": [
        {
          "output_type": "execute_result",
          "data": {
            "text/plain": [
              "array([[1., 2.],\n",
              "       [3., 4.]])"
            ]
          },
          "metadata": {
            "tags": []
          },
          "execution_count": 62
        }
      ]
    },
    {
      "cell_type": "code",
      "metadata": {
        "colab": {
          "base_uri": "https://localhost:8080/"
        },
        "id": "E_hleV3I3hp3",
        "outputId": "94774a47-707e-497f-d039-25c4efb1b0f3"
      },
      "source": [
        "C = np.array([[-1,2],[2,4]])\r\n",
        "C"
      ],
      "execution_count": 66,
      "outputs": [
        {
          "output_type": "execute_result",
          "data": {
            "text/plain": [
              "array([[-1,  2],\n",
              "       [ 2,  4]])"
            ]
          },
          "metadata": {
            "tags": []
          },
          "execution_count": 66
        }
      ]
    },
    {
      "cell_type": "code",
      "metadata": {
        "colab": {
          "base_uri": "https://localhost:8080/"
        },
        "id": "s1m4nEHV3rCT",
        "outputId": "af58f7b7-7acc-4dac-f447-569140e7f65d"
      },
      "source": [
        "np.dot(B,C)"
      ],
      "execution_count": 67,
      "outputs": [
        {
          "output_type": "execute_result",
          "data": {
            "text/plain": [
              "array([[ 3, 10],\n",
              "       [ 5, 22]])"
            ]
          },
          "metadata": {
            "tags": []
          },
          "execution_count": 67
        }
      ]
    },
    {
      "cell_type": "code",
      "metadata": {
        "colab": {
          "base_uri": "https://localhost:8080/"
        },
        "id": "yuA1Zdd63u34",
        "outputId": "daacfc95-80dd-4443-b7ad-35a7d2dc6d6a"
      },
      "source": [
        "np.dot(C,B)"
      ],
      "execution_count": 68,
      "outputs": [
        {
          "output_type": "execute_result",
          "data": {
            "text/plain": [
              "array([[ 5,  6],\n",
              "       [14, 20]])"
            ]
          },
          "metadata": {
            "tags": []
          },
          "execution_count": 68
        }
      ]
    },
    {
      "cell_type": "markdown",
      "metadata": {
        "id": "u9FWFiJp4I8m"
      },
      "source": [
        "#**การบ้านในห้อง** (Quiz 1 commit quiz1)"
      ]
    },
    {
      "cell_type": "markdown",
      "metadata": {
        "id": "gGK7TFVm6os1"
      },
      "source": [
        "![2021-02-01 (2).png](data:image/png;base64,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)"
      ]
    },
    {
      "cell_type": "code",
      "metadata": {
        "colab": {
          "base_uri": "https://localhost:8080/"
        },
        "id": "K8B-oF7W37aR",
        "outputId": "c0669ec1-dffe-444d-b638-25a721dc1d73"
      },
      "source": [
        "Ex=np.array ([[3,1,6],[7,4,5],[2,-7,1]])\r\n",
        "Ex"
      ],
      "execution_count": 72,
      "outputs": [
        {
          "output_type": "execute_result",
          "data": {
            "text/plain": [
              "array([[ 3,  1,  6],\n",
              "       [ 7,  4,  5],\n",
              "       [ 2, -7,  1]])"
            ]
          },
          "metadata": {
            "tags": []
          },
          "execution_count": 72
        }
      ]
    },
    {
      "cell_type": "code",
      "metadata": {
        "colab": {
          "base_uri": "https://localhost:8080/"
        },
        "id": "Cs2hsYYK5qC4",
        "outputId": "185043ed-b5b3-4b2a-90dd-f1245bb0fd67"
      },
      "source": [
        "np.linalg.det(Ex)"
      ],
      "execution_count": 73,
      "outputs": [
        {
          "output_type": "execute_result",
          "data": {
            "text/plain": [
              "-221.99999999999997"
            ]
          },
          "metadata": {
            "tags": []
          },
          "execution_count": 73
        }
      ]
    },
    {
      "cell_type": "markdown",
      "metadata": {
        "id": "3p3-Zm8S7Blp"
      },
      "source": [
        "Eigen value กับ Eigen vector\r\n",
        "\r\n",
        "- Eigen value ($\\lambda$)->$|A-\\lambda I| = 0$  ## $latex$\r\n",
        "- Eigen vector ($x$) -> $Ax=\\lambda x$"
      ]
    },
    {
      "cell_type": "markdown",
      "metadata": {
        "id": "Vz1OUJCN9oeK"
      },
      "source": [
        "##**HW5** หา Eigen value กับ Eigen vector "
      ]
    },
    {
      "cell_type": "code",
      "metadata": {
        "id": "zi70fGNu-jrX"
      },
      "source": [
        ""
      ],
      "execution_count": null,
      "outputs": []
    }
  ]
}