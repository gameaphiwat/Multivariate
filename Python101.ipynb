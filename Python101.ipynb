{
  "nbformat": 4,
  "nbformat_minor": 0,
  "metadata": {
    "colab": {
      "name": "Python101.ipynb",
      "provenance": [],
      "authorship_tag": "ABX9TyMR0ZnyvxzPFe3L8rLc4W0W",
      "include_colab_link": true
    },
    "kernelspec": {
      "name": "python3",
      "display_name": "Python 3"
    }
  },
  "cells": [
    {
      "cell_type": "markdown",
      "metadata": {
        "id": "view-in-github",
        "colab_type": "text"
      },
      "source": [
        "<a href=\"https://colab.research.google.com/github/gameaphiwat/Multivariate/blob/main/Python101.ipynb\" target=\"_parent\"><img src=\"https://colab.research.google.com/assets/colab-badge.svg\" alt=\"Open In Colab\"/></a>"
      ]
    },
    {
      "cell_type": "markdown",
      "metadata": {
        "id": "Jl0EeSE-Lkmo"
      },
      "source": [
        "**ตัวแปล variable**"
      ]
    },
    {
      "cell_type": "markdown",
      "metadata": {
        "id": "_4w3_WAJMHDT"
      },
      "source": [
        "**หลักการตั้งชื่อตัวแปรเบื้องต้น**\r\n",
        "1. ตั้งให้สื่อ\r\n",
        "2. ภาษาอังกฤษ\r\n",
        "3. ใช้ตัวเลขได้แต่ห้ามขึ้นต้นด้วยตัวเลข\r\n",
        "4. ห้ามเว้นวรรค\r\n",
        "5. ตัวเล็กกับตัวใหญ่ไม่เหมือนกัน\r\n",
        "\r\n",
        "\r\n",
        "\r\n",
        " มี output 2mode : ออกหน้าจอ กับ เข้าไปเก็บในตัวแปร\r\n"
      ]
    },
    {
      "cell_type": "code",
      "metadata": {
        "colab": {
          "base_uri": "https://localhost:8080/"
        },
        "id": "cCQgxPYdNVpr",
        "outputId": "b36e269f-1276-4ac9-b7d9-e7e81f0a3a53"
      },
      "source": [
        "3.14159  #hashtag หรือ sharp # com\r\n"
      ],
      "execution_count": 3,
      "outputs": [
        {
          "output_type": "execute_result",
          "data": {
            "text/plain": [
              "3.14159"
            ]
          },
          "metadata": {
            "tags": []
          },
          "execution_count": 3
        }
      ]
    },
    {
      "cell_type": "code",
      "metadata": {
        "id": "HA8THDkVNnBi"
      },
      "source": [
        "pi = 3.14159"
      ],
      "execution_count": 7,
      "outputs": []
    },
    {
      "cell_type": "code",
      "metadata": {
        "colab": {
          "base_uri": "https://localhost:8080/"
        },
        "id": "1RciLFl6NxbE",
        "outputId": "196c9f94-041b-466d-d914-9b22163e533d"
      },
      "source": [
        "pi"
      ],
      "execution_count": 8,
      "outputs": [
        {
          "output_type": "execute_result",
          "data": {
            "text/plain": [
              "3.14159"
            ]
          },
          "metadata": {
            "tags": []
          },
          "execution_count": 8
        }
      ]
    },
    {
      "cell_type": "code",
      "metadata": {
        "colab": {
          "base_uri": "https://localhost:8080/"
        },
        "id": "foKhRHQ0NzCU",
        "outputId": "35bca156-9c96-4031-9730-80e27052c519"
      },
      "source": [
        "a = 1234567\r\n",
        "print(a)\r\n"
      ],
      "execution_count": 12,
      "outputs": [
        {
          "output_type": "stream",
          "text": [
            "1234567\n"
          ],
          "name": "stdout"
        }
      ]
    },
    {
      "cell_type": "markdown",
      "metadata": {
        "id": "cfTvP3asOiqd"
      },
      "source": [
        "##**ชนิดของตัวแปร 3ชนิด**"
      ]
    },
    {
      "cell_type": "markdown",
      "metadata": {
        "id": "xEtjoRjqOwRL"
      },
      "source": [
        "###**จำนวนเต็ม (integer,int)**\r\n"
      ]
    },
    {
      "cell_type": "code",
      "metadata": {
        "colab": {
          "base_uri": "https://localhost:8080/"
        },
        "id": "rqkPCN4-O_Hp",
        "outputId": "ecb6947c-b682-4e84-c76c-0d365901c588"
      },
      "source": [
        "aaa = 1092\r\n",
        "print(aaa)"
      ],
      "execution_count": 14,
      "outputs": [
        {
          "output_type": "stream",
          "text": [
            "1092\n"
          ],
          "name": "stdout"
        }
      ]
    },
    {
      "cell_type": "markdown",
      "metadata": {
        "id": "HwcbY-urPJ7E"
      },
      "source": [
        "###**จำนวนจริง (float)**"
      ]
    },
    {
      "cell_type": "code",
      "metadata": {
        "colab": {
          "base_uri": "https://localhost:8080/"
        },
        "id": "eQs540KgPSpy",
        "outputId": "23b34755-ddea-4ff0-f2b3-8e1e331977d7"
      },
      "source": [
        "bbb = 11.\r\n",
        "print(bbb)"
      ],
      "execution_count": 81,
      "outputs": [
        {
          "output_type": "stream",
          "text": [
            "11.0\n"
          ],
          "name": "stdout"
        }
      ]
    },
    {
      "cell_type": "markdown",
      "metadata": {
        "id": "q62_IsVhPcDO"
      },
      "source": [
        "###**ตัวอักษร-ข้อความ** **(character และ text, string)**\r\n"
      ]
    },
    {
      "cell_type": "code",
      "metadata": {
        "colab": {
          "base_uri": "https://localhost:8080/"
        },
        "id": "xEV2qhDLPwKA",
        "outputId": "2806cdb2-f9b3-48b8-e2e4-e662d3e27f1b"
      },
      "source": [
        "ccc = '123456'  #เราใช้ single quote 'หรือ double quote \" ล้อมรอบตัวหนังสือเพื่อระบุว่าเป็น character-string\r\n",
        "print(ccc)"
      ],
      "execution_count": 17,
      "outputs": [
        {
          "output_type": "stream",
          "text": [
            "123456\n"
          ],
          "name": "stdout"
        }
      ]
    },
    {
      "cell_type": "code",
      "metadata": {
        "colab": {
          "base_uri": "https://localhost:8080/"
        },
        "id": "J1r0hnKCQig9",
        "outputId": "b3ff5845-e5c3-4218-f19a-b9cf9d4b6ac1"
      },
      "source": [
        "ddd='อภิวัฒน์'\r\n",
        "print(ddd)"
      ],
      "execution_count": 22,
      "outputs": [
        {
          "output_type": "stream",
          "text": [
            "อภิวัฒน์\n"
          ],
          "name": "stdout"
        }
      ]
    },
    {
      "cell_type": "markdown",
      "metadata": {
        "id": "4EL0zUIwRCDU"
      },
      "source": [
        "##**การเปลี่ยนแปลงชนิดของตัวแปร variable casting**"
      ]
    },
    {
      "cell_type": "code",
      "metadata": {
        "colab": {
          "base_uri": "https://localhost:8080/"
        },
        "id": "eKJ3jjb4RbL7",
        "outputId": "4b910c81-a1b0-4776-d150-e9fee4f0d2e2"
      },
      "source": [
        "bbb + int(ccc)"
      ],
      "execution_count": 24,
      "outputs": [
        {
          "output_type": "execute_result",
          "data": {
            "text/plain": [
              "123467.0"
            ]
          },
          "metadata": {
            "tags": []
          },
          "execution_count": 24
        }
      ]
    },
    {
      "cell_type": "code",
      "metadata": {
        "colab": {
          "base_uri": "https://localhost:8080/"
        },
        "id": "88rkUTnJRkj4",
        "outputId": "e353e593-95aa-401d-d23e-c94efaca87dc"
      },
      "source": [
        "aaa + float(ccc)"
      ],
      "execution_count": 26,
      "outputs": [
        {
          "output_type": "execute_result",
          "data": {
            "text/plain": [
              "124548.0"
            ]
          },
          "metadata": {
            "tags": []
          },
          "execution_count": 26
        }
      ]
    },
    {
      "cell_type": "code",
      "metadata": {
        "colab": {
          "base_uri": "https://localhost:8080/",
          "height": 35
        },
        "id": "BVXPzAXNRyhX",
        "outputId": "0b4b6dab-367a-40ce-be21-e27b90dbf922"
      },
      "source": [
        "str(ddd)"
      ],
      "execution_count": 34,
      "outputs": [
        {
          "output_type": "execute_result",
          "data": {
            "application/vnd.google.colaboratory.intrinsic+json": {
              "type": "string"
            },
            "text/plain": [
              "'อภิวัฒน์'"
            ]
          },
          "metadata": {
            "tags": []
          },
          "execution_count": 34
        }
      ]
    },
    {
      "cell_type": "markdown",
      "metadata": {
        "id": "nOQdn2OYSGvE"
      },
      "source": [
        "##**การดำเนินการ operation** (**operators**  +,-,*,/,% ) "
      ]
    },
    {
      "cell_type": "code",
      "metadata": {
        "colab": {
          "base_uri": "https://localhost:8080/",
          "height": 163
        },
        "id": "HKD_aJx5SiYa",
        "outputId": "406739d2-ffe0-4af8-f273-28fb743d4c34"
      },
      "source": [
        "a+b"
      ],
      "execution_count": 35,
      "outputs": [
        {
          "output_type": "error",
          "ename": "NameError",
          "evalue": "ignored",
          "traceback": [
            "\u001b[0;31m---------------------------------------------------------------------------\u001b[0m",
            "\u001b[0;31mNameError\u001b[0m                                 Traceback (most recent call last)",
            "\u001b[0;32m<ipython-input-35-ca730b97bf8a>\u001b[0m in \u001b[0;36m<module>\u001b[0;34m()\u001b[0m\n\u001b[0;32m----> 1\u001b[0;31m \u001b[0ma\u001b[0m\u001b[0;34m+\u001b[0m\u001b[0mb\u001b[0m\u001b[0;34m\u001b[0m\u001b[0;34m\u001b[0m\u001b[0m\n\u001b[0m",
            "\u001b[0;31mNameError\u001b[0m: name 'b' is not defined"
          ]
        }
      ]
    },
    {
      "cell_type": "code",
      "metadata": {
        "colab": {
          "base_uri": "https://localhost:8080/"
        },
        "id": "vzkayiH5S37V",
        "outputId": "d64a6821-eccc-40c6-9d29-ac686b2d8849"
      },
      "source": [
        "aaa+bbb"
      ],
      "execution_count": 37,
      "outputs": [
        {
          "output_type": "execute_result",
          "data": {
            "text/plain": [
              "1103.0"
            ]
          },
          "metadata": {
            "tags": []
          },
          "execution_count": 37
        }
      ]
    },
    {
      "cell_type": "code",
      "metadata": {
        "colab": {
          "base_uri": "https://localhost:8080/"
        },
        "id": "wW9OfkDJS7Jh",
        "outputId": "a3341eb7-54d4-4a21-85fb-bd985596b96f"
      },
      "source": [
        "aaa-bbb"
      ],
      "execution_count": 38,
      "outputs": [
        {
          "output_type": "execute_result",
          "data": {
            "text/plain": [
              "1081.0"
            ]
          },
          "metadata": {
            "tags": []
          },
          "execution_count": 38
        }
      ]
    },
    {
      "cell_type": "code",
      "metadata": {
        "colab": {
          "base_uri": "https://localhost:8080/"
        },
        "id": "3h3J4vQhS8jB",
        "outputId": "fdb2a08e-8474-4bc0-bb32-954fc4d33bf0"
      },
      "source": [
        "ab = aaa*bbb\r\n",
        "print(ab)"
      ],
      "execution_count": 40,
      "outputs": [
        {
          "output_type": "stream",
          "text": [
            "12012.0\n"
          ],
          "name": "stdout"
        }
      ]
    },
    {
      "cell_type": "code",
      "metadata": {
        "colab": {
          "base_uri": "https://localhost:8080/"
        },
        "id": "FIVAGoSdTMlb",
        "outputId": "d898c669-019b-48d1-f48c-cdf6ea0ff0df"
      },
      "source": [
        "ab + int(ccc)"
      ],
      "execution_count": 42,
      "outputs": [
        {
          "output_type": "execute_result",
          "data": {
            "text/plain": [
              "135468.0"
            ]
          },
          "metadata": {
            "tags": []
          },
          "execution_count": 42
        }
      ]
    },
    {
      "cell_type": "markdown",
      "metadata": {
        "id": "vgr9BUmkThTP"
      },
      "source": [
        "###**% หมายถึง modulo**\r\n",
        "คือการหารเอาเศษ"
      ]
    },
    {
      "cell_type": "code",
      "metadata": {
        "colab": {
          "base_uri": "https://localhost:8080/"
        },
        "id": "pN_mNgJ3Tr5q",
        "outputId": "e4be0021-a271-4cdf-d415-3a65bb269e0b"
      },
      "source": [
        "5%3"
      ],
      "execution_count": 44,
      "outputs": [
        {
          "output_type": "execute_result",
          "data": {
            "text/plain": [
              "2"
            ]
          },
          "metadata": {
            "tags": []
          },
          "execution_count": 44
        }
      ]
    },
    {
      "cell_type": "code",
      "metadata": {
        "colab": {
          "base_uri": "https://localhost:8080/"
        },
        "id": "B9Gx94zcTvkE",
        "outputId": "4a9d8ed2-0501-474f-bad1-ecf817268892"
      },
      "source": [
        "7%3"
      ],
      "execution_count": 46,
      "outputs": [
        {
          "output_type": "execute_result",
          "data": {
            "text/plain": [
              "1"
            ]
          },
          "metadata": {
            "tags": []
          },
          "execution_count": 46
        }
      ]
    },
    {
      "cell_type": "markdown",
      "metadata": {
        "id": "EZ5AZAj5T-QV"
      },
      "source": [
        "###**คำสั่ง print แบบพิเศษ (การ** **format string**) "
      ]
    },
    {
      "cell_type": "code",
      "metadata": {
        "colab": {
          "base_uri": "https://localhost:8080/"
        },
        "id": "9tAKLeVLUMVp",
        "outputId": "a7798865-0a10-46d2-ab71-0937c9d4abdc"
      },
      "source": [
        "print('ตัวแปร')  #สิ่งที่อยู๋ข้างในวงเล็บคือ ตัวแปร แและ string"
      ],
      "execution_count": 47,
      "outputs": [
        {
          "output_type": "stream",
          "text": [
            "ตัวแปร\n"
          ],
          "name": "stdout"
        }
      ]
    },
    {
      "cell_type": "code",
      "metadata": {
        "colab": {
          "base_uri": "https://localhost:8080/"
        },
        "id": "DLvTc5lvUdVl",
        "outputId": "ce9a591b-76be-4582-a814-bb9b06ad1582"
      },
      "source": [
        "print(f'คือการหารเอาเศษ เช่น 7%3={7%3}') # เพิ่ม f หน้า 'string' และใช้ {}ใส่ code "
      ],
      "execution_count": 48,
      "outputs": [
        {
          "output_type": "stream",
          "text": [
            "คือการหารเอาเศษ เช่น 7%3=1\n"
          ],
          "name": "stdout"
        }
      ]
    },
    {
      "cell_type": "code",
      "metadata": {
        "colab": {
          "base_uri": "https://localhost:8080/"
        },
        "id": "9q8UCA8JVFZG",
        "outputId": "82221daa-d943-4d29-e0bf-e748833c0dab"
      },
      "source": [
        "print(f'%คือการหารเอาเศษ เช่น 7%3= {7%3}  \\\r\n",
        "แต่\\n/ คือการหารปกติ เช่น 7/3 = {7/3} \\\r\n",
        "และ\\n// คือการหารเอาส่วน เช่น 7/3 ={7/3} \\\r\n",
        "หรือ\\n ใช้ int() เพื่อหารเอาส่วน เช่น int(7/3) = {int(7/3)}')  # \\n คือการขึ้นบรรทัดใหม่ \\ ใช้ในการตัด code แต่ com จะไม่เห็น"
      ],
      "execution_count": 74,
      "outputs": [
        {
          "output_type": "stream",
          "text": [
            "%คือการหารเอาเศษ เช่น 7%3= 1  แต่\n",
            "/ คือการหารปกติ เช่น 7/3 = 2.3333333333333335 และ\n",
            "// คือการหารเอาส่วน เช่น 7/3 =2.3333333333333335 หรือ\n",
            " ใช้ int() เพื่อหารเอาส่วน เช่น int(7/3) = 2\n"
          ],
          "name": "stdout"
        }
      ]
    },
    {
      "cell_type": "markdown",
      "metadata": {
        "id": "nHYbP0CDXVi2"
      },
      "source": [
        "##**DATA STRUCTURE (โครงสร้างข้อมูล)**"
      ]
    },
    {
      "cell_type": "markdown",
      "metadata": {
        "id": "SaYBRCObYWdR"
      },
      "source": [
        "###**List คือ การเอาตัวแปรหลายๆตัวมาเรียงกัน**\r\n",
        "### list สามารถสร้างได้2แบบ "
      ]
    },
    {
      "cell_type": "code",
      "metadata": {
        "colab": {
          "base_uri": "https://localhost:8080/"
        },
        "id": "U60wBy46YwXv",
        "outputId": "008d9606-e902-47d3-abc5-560ba9c2434a"
      },
      "source": [
        "[111,'c','งง',aaa]"
      ],
      "execution_count": 56,
      "outputs": [
        {
          "output_type": "execute_result",
          "data": {
            "text/plain": [
              "[111, 'c', 'งง', 1092]"
            ]
          },
          "metadata": {
            "tags": []
          },
          "execution_count": 56
        }
      ]
    },
    {
      "cell_type": "markdown",
      "metadata": {
        "id": "ZKYCH0W5Y_eu"
      },
      "source": [
        "###**แบบที่1 > square brackets**"
      ]
    },
    {
      "cell_type": "code",
      "metadata": {
        "colab": {
          "base_uri": "https://localhost:8080/"
        },
        "id": "MjlMOfg9ZcT2",
        "outputId": "bbcfb1ab-b502-4e47-e6c7-6343239d8cf4"
      },
      "source": [
        "list_a = []\r\n",
        "print(list_a)"
      ],
      "execution_count": 58,
      "outputs": [
        {
          "output_type": "stream",
          "text": [
            "[]\n"
          ],
          "name": "stdout"
        }
      ]
    },
    {
      "cell_type": "code",
      "metadata": {
        "colab": {
          "base_uri": "https://localhost:8080/"
        },
        "id": "qJJYbb3CZoSF",
        "outputId": "ab029db2-ffe0-4aea-c23d-2b392b6a5b24"
      },
      "source": [
        "list_b = [1,5,'งง']\r\n",
        "print(list_b)"
      ],
      "execution_count": 62,
      "outputs": [
        {
          "output_type": "stream",
          "text": [
            "[1, 5, 'งง']\n"
          ],
          "name": "stdout"
        }
      ]
    },
    {
      "cell_type": "markdown",
      "metadata": {
        "id": "6YLhQI8aZ2cd"
      },
      "source": [
        "##**ลำดับที่อยู่ใน list มีความสำคัญ (ลำดับ list เริ่มจาก 0,1,2,....)**"
      ]
    },
    {
      "cell_type": "code",
      "metadata": {
        "colab": {
          "base_uri": "https://localhost:8080/",
          "height": 35
        },
        "id": "c9rvbAqAbQkd",
        "outputId": "b7239209-b6e8-4ac7-940d-afa6e62e9cc2"
      },
      "source": [
        "list_b[2]"
      ],
      "execution_count": 63,
      "outputs": [
        {
          "output_type": "execute_result",
          "data": {
            "application/vnd.google.colaboratory.intrinsic+json": {
              "type": "string"
            },
            "text/plain": [
              "'งง'"
            ]
          },
          "metadata": {
            "tags": []
          },
          "execution_count": 63
        }
      ]
    },
    {
      "cell_type": "markdown",
      "metadata": {
        "id": "Im8tcbJFbeoJ"
      },
      "source": [
        "###**แบบที่2**"
      ]
    },
    {
      "cell_type": "code",
      "metadata": {
        "colab": {
          "base_uri": "https://localhost:8080/"
        },
        "id": "lnQCUfszboAi",
        "outputId": "619028f0-0a2b-4a26-ecfc-2906ed9d93c6"
      },
      "source": [
        "list_c = list()\r\n",
        "print(list_c)"
      ],
      "execution_count": 66,
      "outputs": [
        {
          "output_type": "stream",
          "text": [
            "[]\n"
          ],
          "name": "stdout"
        }
      ]
    },
    {
      "cell_type": "markdown",
      "metadata": {
        "id": "w7-Ro_zmb_ox"
      },
      "source": [
        "###**append** **() เพิ่มสมาชิก list**"
      ]
    },
    {
      "cell_type": "code",
      "metadata": {
        "colab": {
          "base_uri": "https://localhost:8080/"
        },
        "id": "OoEK01LGcL4h",
        "outputId": "7073f5e9-8226-4696-94ed-08062b56d1ce"
      },
      "source": [
        "list_b.append('u')\r\n",
        "print(list_b)"
      ],
      "execution_count": 67,
      "outputs": [
        {
          "output_type": "stream",
          "text": [
            "[1, 5, 'งง', 'u']\n"
          ],
          "name": "stdout"
        }
      ]
    },
    {
      "cell_type": "markdown",
      "metadata": {
        "id": "W1g7zDWKc-Jp"
      },
      "source": [
        "ตัวที่อยู่ในวงเล็บหลังจากตัวแปร list เรียกว่า index ใช้สำหรับชี้ข้อมูล ใน list \\\r\n",
        " (ชี้จากข้างหน้า,ชี้จากข้างหลัง)\\\r\n",
        " 0 คือสมาชิกตัวแรก , -1 คือสมาชิกตัวสุดท้าย"
      ]
    },
    {
      "cell_type": "code",
      "metadata": {
        "colab": {
          "base_uri": "https://localhost:8080/",
          "height": 35
        },
        "id": "x0lYus40c3Eh",
        "outputId": "f78b0090-8e7c-46d0-99f6-405424a49668"
      },
      "source": [
        "list_b[-1]"
      ],
      "execution_count": 80,
      "outputs": [
        {
          "output_type": "execute_result",
          "data": {
            "application/vnd.google.colaboratory.intrinsic+json": {
              "type": "string"
            },
            "text/plain": [
              "'u'"
            ]
          },
          "metadata": {
            "tags": []
          },
          "execution_count": 80
        }
      ]
    },
    {
      "cell_type": "markdown",
      "metadata": {
        "id": "o5wXVjjvd2YQ"
      },
      "source": [
        "##**String > list of haracters**"
      ]
    },
    {
      "cell_type": "code",
      "metadata": {
        "colab": {
          "base_uri": "https://localhost:8080/"
        },
        "id": "8_foboPsd-SV",
        "outputId": "4478ebcc-7aaf-421e-bdbb-514a4aee3ed7"
      },
      "source": [
        "t = 'python is easy'\r\n",
        "print(t)"
      ],
      "execution_count": 69,
      "outputs": [
        {
          "output_type": "stream",
          "text": [
            "python is easy\n"
          ],
          "name": "stdout"
        }
      ]
    },
    {
      "cell_type": "code",
      "metadata": {
        "colab": {
          "base_uri": "https://localhost:8080/",
          "height": 35
        },
        "id": "ir6YLEECeedn",
        "outputId": "a07375bb-261d-4b3a-8137-946c8aa0a68c"
      },
      "source": [
        "t[1]"
      ],
      "execution_count": 71,
      "outputs": [
        {
          "output_type": "execute_result",
          "data": {
            "application/vnd.google.colaboratory.intrinsic+json": {
              "type": "string"
            },
            "text/plain": [
              "'y'"
            ]
          },
          "metadata": {
            "tags": []
          },
          "execution_count": 71
        }
      ]
    },
    {
      "cell_type": "code",
      "metadata": {
        "colab": {
          "base_uri": "https://localhost:8080/",
          "height": 35
        },
        "id": "bMedsEV5eg_v",
        "outputId": "8e7dbff0-109f-4550-9c44-3d959ca4f23d"
      },
      "source": [
        "t[-4]"
      ],
      "execution_count": 72,
      "outputs": [
        {
          "output_type": "execute_result",
          "data": {
            "application/vnd.google.colaboratory.intrinsic+json": {
              "type": "string"
            },
            "text/plain": [
              "'e'"
            ]
          },
          "metadata": {
            "tags": []
          },
          "execution_count": 72
        }
      ]
    },
    {
      "cell_type": "code",
      "metadata": {
        "colab": {
          "base_uri": "https://localhost:8080/",
          "height": 35
        },
        "id": "EUDn3yKAeoJk",
        "outputId": "4fe5e964-4db0-441f-d951-02a2fafd562c"
      },
      "source": [
        "t[6]"
      ],
      "execution_count": 82,
      "outputs": [
        {
          "output_type": "execute_result",
          "data": {
            "application/vnd.google.colaboratory.intrinsic+json": {
              "type": "string"
            },
            "text/plain": [
              "' '"
            ]
          },
          "metadata": {
            "tags": []
          },
          "execution_count": 82
        }
      ]
    },
    {
      "cell_type": "code",
      "metadata": {
        "colab": {
          "base_uri": "https://localhost:8080/",
          "height": 35
        },
        "id": "UTAHqCI5ilm7",
        "outputId": "3abcfb2e-fdb1-4a4f-8202-dd32a6999830"
      },
      "source": [
        "t[0]"
      ],
      "execution_count": 85,
      "outputs": [
        {
          "output_type": "execute_result",
          "data": {
            "application/vnd.google.colaboratory.intrinsic+json": {
              "type": "string"
            },
            "text/plain": [
              "'p'"
            ]
          },
          "metadata": {
            "tags": []
          },
          "execution_count": 85
        }
      ]
    }
  ]
}