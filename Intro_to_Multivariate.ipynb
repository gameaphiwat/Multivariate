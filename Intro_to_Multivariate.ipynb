{
  "nbformat": 4,
  "nbformat_minor": 0,
  "metadata": {
    "colab": {
      "name": "Intro to Multivariate.ipynb",
      "provenance": [],
      "authorship_tag": "ABX9TyMwY7PC67ocj/ehYd3DTrMo",
      "include_colab_link": true
    },
    "kernelspec": {
      "name": "python3",
      "display_name": "Python 3"
    }
  },
  "cells": [
    {
      "cell_type": "markdown",
      "metadata": {
        "id": "view-in-github",
        "colab_type": "text"
      },
      "source": [
        "<a href=\"https://colab.research.google.com/github/gameaphiwat/Multivariate/blob/main/Intro_to_Multivariate.ipynb\" target=\"_parent\"><img src=\"https://colab.research.google.com/assets/colab-badge.svg\" alt=\"Open In Colab\"/></a>"
      ]
    },
    {
      "cell_type": "markdown",
      "metadata": {
        "id": "4G9rye1giXjN"
      },
      "source": [
        "อภิวัฒน์  เหลี่ยมสิงขร ID 623020545-4"
      ]
    },
    {
      "cell_type": "code",
      "metadata": {
        "colab": {
          "base_uri": "https://localhost:8080/"
        },
        "id": "n77b1Zk8imYY",
        "outputId": "30de6991-6740-4e1e-d9cc-1559a08e5ad5"
      },
      "source": [
        "print('อภิวัฒน์') #single quote (') ใช้ล้อมรอบข้อความ"
      ],
      "execution_count": null,
      "outputs": [
        {
          "output_type": "stream",
          "text": [
            "อภิวัฒน์\n"
          ],
          "name": "stdout"
        }
      ]
    },
    {
      "cell_type": "markdown",
      "metadata": {
        "id": "-avngliZLuYb"
      },
      "source": [
        "# **Aphiwat**\r\n",
        "## **Aphiwat**\r\n",
        "### **Aphiwat**"
      ]
    },
    {
      "cell_type": "markdown",
      "metadata": {
        "id": "XuZ7LBpC1Q4x"
      },
      "source": [
        "##อภิวัฒน์\r\n",
        "###อภิวัฒน์\r\n"
      ]
    }
  ]
}