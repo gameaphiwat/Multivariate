{
  "nbformat": 4,
  "nbformat_minor": 0,
  "metadata": {
    "colab": {
      "name": "Intro to Multivariate.ipynb",
      "provenance": [],
      "authorship_tag": "ABX9TyMqCgmmxxfwCIE2o4kIGH0Z",
      "include_colab_link": true
    },
    "kernelspec": {
      "name": "python3",
      "display_name": "Python 3"
    }
  },
  "cells": [
    {
      "cell_type": "markdown",
      "metadata": {
        "id": "view-in-github",
        "colab_type": "text"
      },
      "source": [
        "<a href=\"https://colab.research.google.com/github/gameaphiwat/Multivariate/blob/main/Intro_to_Multivariate.ipynb\" target=\"_parent\"><img src=\"https://colab.research.google.com/assets/colab-badge.svg\" alt=\"Open In Colab\"/></a>"
      ]
    },
    {
      "cell_type": "markdown",
      "metadata": {
        "id": "4G9rye1giXjN"
      },
      "source": [
        "อภิวัฒน์  เหลี่ยมสิงขร ID 623020545-4"
      ]
    },
    {
      "cell_type": "code",
      "metadata": {
        "colab": {
          "base_uri": "https://localhost:8080/"
        },
        "id": "n77b1Zk8imYY",
        "outputId": "30de6991-6740-4e1e-d9cc-1559a08e5ad5"
      },
      "source": [
        "print('อภิวัฒน์') #single quote (') ใช้ล้อมรอบข้อความ"
      ],
      "execution_count": 2,
      "outputs": [
        {
          "output_type": "stream",
          "text": [
            "อภิวัฒน์\n"
          ],
          "name": "stdout"
        }
      ]
    }
  ]
}